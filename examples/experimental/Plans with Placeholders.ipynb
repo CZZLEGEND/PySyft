{
 "cells": [
  {
   "cell_type": "code",
   "execution_count": 1,
   "metadata": {},
   "outputs": [
    {
     "name": "stdout",
     "output_type": "stream",
     "text": [
      "_get_hooked_func torch manual_seed torch.manual_seed\n"
     ]
    }
   ],
   "source": [
    "import numpy as np\n",
    "import time\n",
    "\n",
    "import syft as sy\n",
    "import torch as th\n",
    "import torch.nn as nn\n",
    "import torch.optim as optim\n",
    "import torch.nn.functional as F\n",
    "import time\n",
    "import torch.autograd as autograd\n",
    "import numpy as np\n",
    "\n",
    "syft = sy \n",
    "\n",
    "hook = sy.TorchHook(th)\n",
    "bob = sy.VirtualWorker(hook, id=\"bob\")\n",
    "alice = sy.VirtualWorker(hook, id=\"alice\")\n",
    "charlie = sy.VirtualWorker(hook, id=\"charlie\")\n",
    "james = sy.VirtualWorker(hook, id=\"james\")\n",
    "crypto_provider = james\n",
    "torch = th\n",
    "\n",
    "# th.manual_seed(1)\n"
   ]
  },
  {
   "cell_type": "code",
   "execution_count": 2,
   "metadata": {},
   "outputs": [],
   "source": [
    "@sy.func2plan(args_shape=[(1,)])\n",
    "def plan_abs(data):\n",
    "    return data.abs()\n",
    "\n",
    "assert isinstance(plan_abs.__str__(), str)\n",
    "assert len(plan_abs.readable_plan) > 0\n",
    "assert plan_abs.is_built"
   ]
  },
  {
   "cell_type": "code",
   "execution_count": 3,
   "metadata": {},
   "outputs": [
    {
     "name": "stdout",
     "output_type": "stream",
     "text": [
      "\n",
      "Instanciating inputs..\n",
      "\n",
      "Running operations...\n",
      "\n",
      "run cmd 0\n",
      "('__mul__', PlaceHolder(#2, #input)>tensor([1., 2.]), (2,), {})\n",
      "PlaceHolder(#3)>tensor([2., 4.])\n",
      "run cmd 1\n",
      "('__add__', PlaceHolder(#3)>tensor([2., 4.]), (PlaceHolder(#1, #state)>tensor([1.]),), {})\n",
      "PlaceHolder(#4)>tensor([3., 5.])\n"
     ]
    }
   ],
   "source": [
    "@sy.func2plan(args_shape=[(1,)], state=(th.tensor([1.0]),))\n",
    "def foo(x, state):\n",
    "    (bias,) = state.read()\n",
    "    x = x * 2\n",
    "    return x + bias\n",
    "\n",
    "assert isinstance(foo.__str__(), str)\n",
    "assert len(foo.readable_plan) > 0\n",
    "assert foo.is_built\n",
    "\n",
    "t = th.tensor([1.0, 2])\n",
    "x = foo(t)\n",
    "\n",
    "assert (x == th.tensor([3.0, 5])).all()"
   ]
  },
  {
   "cell_type": "code",
   "execution_count": null,
   "metadata": {},
   "outputs": [
    {
     "name": "stdout",
     "text": [
      "expected:  tensor([4.])\n\nInstanciating inputs..\n\nRunning operations...\n\nrun cmd 0\n('__add__', PlaceHolder(#1, #input)>tensor([2.]), (PlaceHolder(#1, #input)>tensor([2.]),), {})\nPlaceHolder(-)>tensor([4.])\nrun cmd 1\n('__mul__', PlaceHolder(#2)>tensor([4.]), (2,), {})\nPlaceHolder(-)>tensor([8.])\nactual:  tensor([8.])\n"
     ],
     "output_type": "stream"
    },
    {
     "traceback": [
      "\u001b[1;31m---------------------------------------------------------------------------\u001b[0m",
      "\u001b[1;31mAssertionError\u001b[0m                            Traceback (most recent call last)",
      "\u001b[1;32m<ipython-input-7-eed5eaa9546b>\u001b[0m in \u001b[0;36m<module>\u001b[1;34m\u001b[0m\n\u001b[0;32m     15\u001b[0m \u001b[0mactual\u001b[0m \u001b[1;33m=\u001b[0m \u001b[0mserde_plan_detailed\u001b[0m\u001b[1;33m(\u001b[0m\u001b[0mt\u001b[0m\u001b[1;33m)\u001b[0m\u001b[1;33m\u001b[0m\u001b[1;33m\u001b[0m\u001b[0m\n\u001b[0;32m     16\u001b[0m \u001b[0mprint\u001b[0m\u001b[1;33m(\u001b[0m\u001b[1;34m'actual: '\u001b[0m\u001b[1;33m,\u001b[0m \u001b[0mactual\u001b[0m\u001b[1;33m)\u001b[0m\u001b[1;33m\u001b[0m\u001b[1;33m\u001b[0m\u001b[0m\n\u001b[1;32m---> 17\u001b[1;33m \u001b[1;32massert\u001b[0m \u001b[0mactual\u001b[0m \u001b[1;33m==\u001b[0m \u001b[0mexpected\u001b[0m\u001b[1;33m\u001b[0m\u001b[1;33m\u001b[0m\u001b[0m\n\u001b[0m\u001b[0;32m     18\u001b[0m \u001b[1;33m\u001b[0m\u001b[0m\n\u001b[0;32m     19\u001b[0m \u001b[1;33m\u001b[0m\u001b[0m\n",
      "\u001b[1;31mAssertionError\u001b[0m: "
     ],
     "ename": "AssertionError",
     "evalue": "",
     "output_type": "error"
    }
   ],
   "source": [
    "from syft.serde.msgpack import serde\n",
    "\n",
    "@sy.func2plan(args_shape=[(1,)])\n",
    "def serde_plan(x):\n",
    "    x = x + x\n",
    "    y = x * 2\n",
    "    return x\n",
    "\n",
    "serde_plan_simplified = serde._simplify(bob, serde_plan)\n",
    "serde_plan_detailed = serde._detail(bob, serde_plan_simplified)\n",
    "t = th.tensor([2.])\n",
    "expected = serde_plan(t)\n",
    "print('expected: ', expected)\n",
    "actual = serde_plan_detailed(t)\n",
    "print('actual: ', actual)\n",
    "assert actual == expected \n"
   ]
  },
  {
   "cell_type": "code",
   "execution_count": null,
   "metadata": {},
   "outputs": [],
   "source": []
  },
  {
   "cell_type": "code",
   "execution_count": null,
   "metadata": {},
   "outputs": [],
   "source": []
  },
  {
   "cell_type": "code",
   "execution_count": null,
   "metadata": {},
   "outputs": [],
   "source": []
  },
  {
   "cell_type": "code",
   "execution_count": null,
   "metadata": {},
   "outputs": [],
   "source": []
  },
  {
   "cell_type": "code",
   "execution_count": null,
   "metadata": {},
   "outputs": [],
   "source": []
  },
  {
   "cell_type": "code",
   "execution_count": 2,
   "metadata": {},
   "outputs": [],
   "source": [
    "def plan(func):\n",
    "    def hooked_func(*args, **kwargs):\n",
    "    \n",
    "        syft.hook.trace, syft.hook.trace_inactive = True, True\n",
    "\n",
    "        result = func(*args, **kwargs)\n",
    "\n",
    "        syft.hook.trace, syft.hook.trace_inactive = False, False\n",
    "\n",
    "        \n",
    "        placeholders = {}\n",
    "        var_count = [0]\n",
    "        input_placeholders = []\n",
    "        def add_placeholder(t, find_inputs=False):\n",
    "            if t.id not in placeholders.keys():\n",
    "                placeholder = sy.PlaceHolder(tags={f'#{var_count[0]+1}'})\n",
    "                placeholders[t.id] = placeholder\n",
    "                if find_inputs:\n",
    "                    input_placeholders.append(placeholder)\n",
    "                    placeholder.tags.add('#input')\n",
    "                var_count[0] += 1\n",
    "                    \n",
    "            return placeholders[t.id]\n",
    "\n",
    "        def replace_with_placeholders(obj, **kw):\n",
    "            if isinstance(obj, (tuple, list)):\n",
    "                r = [replace_with_placeholders(o, **kw) for o in obj]\n",
    "                return type(obj)(r)\n",
    "            elif isinstance(obj, dict):\n",
    "                return {\n",
    "                    key: replace_with_placeholders(value, **kw)\n",
    "                    for key, value in obj.items()\n",
    "                }\n",
    "            elif isinstance(obj, th.Tensor):\n",
    "                return add_placeholder(obj, **kw)\n",
    "            elif isinstance(obj, (int, float, str, bool)):\n",
    "                return obj\n",
    "            elif obj is None:\n",
    "                return None\n",
    "            else:\n",
    "                raise TypeError(f\"Type {type(obj)} not supported in plans args/kwargs\")\n",
    "\n",
    "\n",
    "        new_logs = []\n",
    "        for log in syft.trace_logs:\n",
    "            req, resp = log\n",
    "            req, resp = replace_with_placeholders(req, find_inputs=True), replace_with_placeholders(resp)\n",
    "            new_logs.append((req, resp))\n",
    "            \n",
    "        print('==INPUTS==')\n",
    "        print(input_placeholders)\n",
    "        for log in new_logs:\n",
    "            req, resp = log\n",
    "            print('==========')\n",
    "            print(req)\n",
    "            print('-->', resp)\n",
    "            \n",
    "            \n",
    "        print('\\nInstanciating inputs to -0.7...\\n')\n",
    "        # Simulate instanciation\n",
    "        for placeholder in input_placeholders:\n",
    "            placeholder.instanciate(th.Tensor([-.7]))\n",
    "            \n",
    "        print('Running operations...\\n')\n",
    "        for i, log in enumerate(new_logs):\n",
    "            print('run cmd', i)\n",
    "            (cmd, self, args, kwargs), resp = log\n",
    "            if self is None:\n",
    "                r = eval(cmd)(*args, **kwargs)\n",
    "            else:\n",
    "                r = getattr(self, cmd)(*args, **kwargs)\n",
    "            resp.instanciate(r.child)\n",
    "            print(resp)\n",
    "            \n",
    "\n",
    "        syft.trace_logs = []\n",
    "    \n",
    "        return result\n",
    "    \n",
    "    return hooked_func"
   ]
  },
  {
   "cell_type": "code",
   "execution_count": 3,
   "metadata": {},
   "outputs": [],
   "source": [
    "@plan\n",
    "def foo(x, y):\n",
    "    z = torch.add(x, y)\n",
    "    r = z.abs()\n",
    "    return r"
   ]
  },
  {
   "cell_type": "code",
   "execution_count": 4,
   "metadata": {},
   "outputs": [
    {
     "name": "stdout",
     "output_type": "stream",
     "text": [
      "==INPUTS==\n",
      "[PlaceHolder(#1, #input), PlaceHolder(#2, #input)]\n",
      "==========\n",
      "('torch.add', None, (PlaceHolder(#1, #input), PlaceHolder(#2, #input)), {})\n",
      "--> PlaceHolder(#3)\n",
      "==========\n",
      "('abs', PlaceHolder(#3), (), {})\n",
      "--> PlaceHolder(#4)\n",
      "\n",
      "Instanciating inputs to -0.7...\n",
      "\n",
      "Running operations...\n",
      "\n",
      "run cmd 0\n",
      "PlaceHolder(#3)>tensor([-1.4000])\n",
      "run cmd 1\n",
      "PlaceHolder(#4)>tensor([1.4000])\n"
     ]
    }
   ],
   "source": [
    "x = th.Tensor([1.])\n",
    "y = th.Tensor([2.])\n",
    "m = foo(x, y)"
   ]
  },
  {
   "cell_type": "code",
   "execution_count": null,
   "metadata": {},
   "outputs": [],
   "source": []
  }
 ],
 "metadata": {
  "kernelspec": {
   "display_name": "Python (Pysyft)",
   "language": "python",
   "name": "pysyft"
  },
  "language_info": {
   "codemirror_mode": {
    "name": "ipython",
    "version": 3
   },
   "file_extension": ".py",
   "mimetype": "text/x-python",
   "name": "python",
   "nbconvert_exporter": "python",
   "pygments_lexer": "ipython3",
   "version": "3.7.0"
  }
 },
 "nbformat": 4,
 "nbformat_minor": 2
}
