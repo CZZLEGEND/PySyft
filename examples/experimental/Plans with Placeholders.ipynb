{
 "cells": [
  {
   "cell_type": "code",
   "execution_count": 1,
   "metadata": {},
   "outputs": [
    {
     "name": "stdout",
     "output_type": "stream",
     "text": [
      "_get_hooked_func torch manual_seed torch.manual_seed\n"
     ]
    }
   ],
   "source": [
    "import numpy as np\n",
    "import time\n",
    "\n",
    "import syft as sy\n",
    "import torch as th\n",
    "import torch.nn as nn\n",
    "import torch.optim as optim\n",
    "import torch.nn.functional as F\n",
    "import time\n",
    "import torch.autograd as autograd\n",
    "import numpy as np\n",
    "\n",
    "syft = sy \n",
    "\n",
    "hook = sy.TorchHook(th)\n",
    "bob = sy.VirtualWorker(hook, id=\"bob\")\n",
    "alice = sy.VirtualWorker(hook, id=\"alice\")\n",
    "charlie = sy.VirtualWorker(hook, id=\"charlie\")\n",
    "james = sy.VirtualWorker(hook, id=\"james\")\n",
    "crypto_provider = james\n",
    "torch = th\n",
    "\n",
    "# th.manual_seed(1)\n"
   ]
  },
  {
   "cell_type": "code",
   "execution_count": 2,
   "metadata": {},
   "outputs": [],
   "source": [
    "def plan(func):\n",
    "    def hooked_func(*args, **kwargs):\n",
    "    \n",
    "        syft.hook.trace, syft.hook.trace_inactive = True, True\n",
    "\n",
    "        result = func(*args, **kwargs)\n",
    "\n",
    "        syft.hook.trace, syft.hook.trace_inactive = False, False\n",
    "\n",
    "        \n",
    "        placeholders = {}\n",
    "        var_count = [0]\n",
    "        input_placeholders = []\n",
    "        def add_placeholder(t, find_inputs=False):\n",
    "            if t.id not in placeholders.keys():\n",
    "                placeholder = sy.PlaceHolder(tags={f'#{var_count[0]+1}'})\n",
    "                placeholders[t.id] = placeholder\n",
    "                if find_inputs:\n",
    "                    input_placeholders.append(placeholder)\n",
    "                    placeholder.tags.add('#input')\n",
    "                var_count[0] += 1\n",
    "                    \n",
    "            return placeholders[t.id]\n",
    "\n",
    "        def replace_with_placeholders(obj, **kw):\n",
    "            if isinstance(obj, (tuple, list)):\n",
    "                r = [replace_with_placeholders(o, **kw) for o in obj]\n",
    "                return type(obj)(r)\n",
    "            elif isinstance(obj, dict):\n",
    "                return {\n",
    "                    key: replace_with_placeholders(value, **kw)\n",
    "                    for key, value in obj.items()\n",
    "                }\n",
    "            elif isinstance(obj, th.Tensor):\n",
    "                return add_placeholder(obj, **kw)\n",
    "            elif isinstance(obj, (int, float, str, bool)):\n",
    "                return obj\n",
    "            elif obj is None:\n",
    "                return None\n",
    "            else:\n",
    "                raise TypeError(f\"Type {type(obj)} not supported in plans args/kwargs\")\n",
    "\n",
    "\n",
    "        new_logs = []\n",
    "        for log in syft.trace_logs:\n",
    "            req, resp = log\n",
    "            req, resp = replace_with_placeholders(req, find_inputs=True), replace_with_placeholders(resp)\n",
    "            new_logs.append((req, resp))\n",
    "            \n",
    "        print('==INPUTS==')\n",
    "        print(input_placeholders)\n",
    "        for log in new_logs:\n",
    "            req, resp = log\n",
    "            print('==========')\n",
    "            print(req)\n",
    "            print('-->', resp)\n",
    "            \n",
    "            \n",
    "        print('\\nInstanciating inputs to -0.7...\\n')\n",
    "        # Simulate instanciation\n",
    "        for placeholder in input_placeholders:\n",
    "            placeholder.instanciate(th.Tensor([-.7]))\n",
    "            \n",
    "        print('Running operations...\\n')\n",
    "        for i, log in enumerate(new_logs):\n",
    "            print('run cmd', i)\n",
    "            (cmd, self, args, kwargs), resp = log\n",
    "            if self is None:\n",
    "                r = eval(cmd)(*args, **kwargs)\n",
    "            else:\n",
    "                r = getattr(self, cmd)(*args, **kwargs)\n",
    "            resp.instanciate(r.child)\n",
    "            print(resp)\n",
    "            \n",
    "\n",
    "        syft.trace_logs = []\n",
    "    \n",
    "        return result\n",
    "    \n",
    "    return hooked_func"
   ]
  },
  {
   "cell_type": "code",
   "execution_count": 3,
   "metadata": {},
   "outputs": [],
   "source": [
    "@plan\n",
    "def foo(x, y):\n",
    "    z = torch.add(x, y)\n",
    "    r = z.abs()\n",
    "    return r"
   ]
  },
  {
   "cell_type": "code",
   "execution_count": 4,
   "metadata": {},
   "outputs": [
    {
     "name": "stdout",
     "output_type": "stream",
     "text": [
      "==INPUTS==\n",
      "[PlaceHolder(#1, #input), PlaceHolder(#2, #input)]\n",
      "==========\n",
      "('torch.add', None, (PlaceHolder(#1, #input), PlaceHolder(#2, #input)), {})\n",
      "--> PlaceHolder(#3)\n",
      "==========\n",
      "('abs', PlaceHolder(#3), (), {})\n",
      "--> PlaceHolder(#4)\n",
      "\n",
      "Instanciating inputs to -0.7...\n",
      "\n",
      "Running operations...\n",
      "\n",
      "run cmd 0\n",
      "PlaceHolder(#3)>tensor([-1.4000])\n",
      "run cmd 1\n",
      "PlaceHolder(#4)>tensor([1.4000])\n"
     ]
    }
   ],
   "source": [
    "x = th.Tensor([1.])\n",
    "y = th.Tensor([2.])\n",
    "m = foo(x, y)"
   ]
  },
  {
   "cell_type": "code",
   "execution_count": null,
   "metadata": {},
   "outputs": [],
   "source": []
  }
 ],
 "metadata": {
  "kernelspec": {
   "display_name": "Python (Pysyft)",
   "language": "python",
   "name": "pysyft"
  },
  "language_info": {
   "codemirror_mode": {
    "name": "ipython",
    "version": 3
   },
   "file_extension": ".py",
   "mimetype": "text/x-python",
   "name": "python",
   "nbconvert_exporter": "python",
   "pygments_lexer": "ipython3",
   "version": "3.7.0"
  }
 },
 "nbformat": 4,
 "nbformat_minor": 2
}
